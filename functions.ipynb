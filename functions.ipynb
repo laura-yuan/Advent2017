{
 "cells": [
  {
   "cell_type": "markdown",
   "metadata": {},
   "source": [
    "Helper functions from \n",
    "https://github.com/norvig/pytudes/blob/master/ipynb/Advent%20of%20Code.ipynb"
   ]
  },
  {
   "cell_type": "code",
   "execution_count": 1,
   "metadata": {
    "collapsed": false
   },
   "outputs": [],
   "source": [
    "# Python 3.x\n",
    "import re\n",
    "import numpy as np\n",
    "import math\n",
    "import urllib.request\n",
    "\n",
    "from collections import Counter, defaultdict, namedtuple, deque\n",
    "from functools   import lru_cache\n",
    "from itertools   import permutations, combinations, chain, cycle, product, islice\n",
    "from heapq       import heappop, heappush\n",
    "\n",
    "def Input(day):\n",
    "    \"Open this day's input file.\"\n",
    "    filename = 'Input/input{}.txt'.format(day)\n",
    "    try:\n",
    "        return open(filename)\n",
    "    except FileNotFoundError:\n",
    "        return urllib.request.urlopen(\"http://adventofcode.com/2017/day/{}/input\".format(day))\n",
    "\n",
    "def transpose(matrix): return zip(*matrix)\n",
    "\n",
    "def first(iterable): return next(iter(iterable))\n",
    "\n",
    "def nth(iterable, n, default=None):\n",
    "    \"Returns the nth item of iterable, or a default value\"\n",
    "    return next(islice(iterable, n, None), default)\n",
    "\n",
    "cat = ''.join\n",
    "\n",
    "Ø   = frozenset() # Empty set\n",
    "inf = float('inf')\n",
    "BIG = 10 ** 999\n",
    "\n",
    "def grep(pattern, lines):\n",
    "    \"Print lines that match pattern.\"\n",
    "    for line in lines:\n",
    "        if re.search(pattern, line):\n",
    "            print(line)\n",
    "\n",
    "def groupby(iterable, key=lambda it: it):\n",
    "    \"Return a dic whose keys are key(it) and whose values are all the elements of iterable with that key.\"\n",
    "    dic = defaultdict(list)\n",
    "    for it in iterable:\n",
    "        dic[key(it)].append(it)\n",
    "    return dic\n",
    "\n",
    "def powerset(iterable):\n",
    "    \"Yield all subsets of items.\"\n",
    "    items = list(iterable)\n",
    "    for r in range(len(items)+1):\n",
    "        for c in combinations(items, r):\n",
    "            yield c\n",
    "\n",
    "# 2-D points implemented using (x, y) tuples\n",
    "def X(point): return point[0]\n",
    "def Y(point): return point[1]\n",
    "\n",
    "def neighbors4(point): \n",
    "    \"The four neighbors (without diagonals).\"\n",
    "    x, y = point\n",
    "    return ((x+1, y), (x-1, y), (x, y+1), (x, y-1))\n",
    "\n",
    "def neighbors8(point): \n",
    "    \"The eight neighbors (with diagonals).\"\n",
    "    x, y = point \n",
    "    return ((x+1, y), (x-1, y), (x, y+1), (x, y-1),\n",
    "            (X+1, y+1), (x-1, y-1), (x+1, y-1), (x-1, y+1))\n",
    "\n",
    "def cityblock_distance(p, q=(0, 0)): \n",
    "    \"City block distance between two points.\"\n",
    "    return abs(X(p) - X(q)) + abs(Y(p) - Y(q))\n",
    "\n",
    "def euclidean_distance(p, q=(0, 0)): \n",
    "    \"Euclidean (hypotenuse) distance between two points.\"\n",
    "    return math.hypot(X(p) - X(q), Y(p) - Y(q))\n",
    "\n",
    "def trace1(f):\n",
    "    \"Print a trace of the input and output of a function on one line.\"\n",
    "    def traced_f(*args):\n",
    "        result = f(*args)\n",
    "        print('{}({}) = {}'.format(f.__name__, ', '.join(map(str, args)), result))\n",
    "        return result\n",
    "    return traced_f\n",
    "\n",
    "def astar_search(start, h_func, moves_func):\n",
    "    \"Find a shortest sequence of states from start to a goal state (a state s with h_func(s) == 0).\"\n",
    "    frontier  = [(h_func(start), start)] # A priority queue, ordered by path length, f = g + h\n",
    "    previous  = {start: None}  # start state has no previous state; other states will\n",
    "    path_cost = {start: 0}     # The cost of the best path to a state.\n",
    "    while frontier:\n",
    "        (f, s) = heappop(frontier)\n",
    "        if h_func(s) == 0:\n",
    "            return Path(previous, s)\n",
    "        for s2 in moves_func(s):\n",
    "            new_cost = path_cost[s] + 1\n",
    "            if s2 not in path_cost or new_cost < path_cost[s2]:\n",
    "                heappush(frontier, (new_cost + h_func(s2), s2))\n",
    "                path_cost[s2] = new_cost\n",
    "                previous[s2] = s\n",
    "    return dict(fail=True, front=len(frontier), prev=len(previous))\n",
    "                \n",
    "def Path(previous, s): \n",
    "    \"Return a list of states that lead to state s, according to the previous dict.\"\n",
    "    return ([] if (s is None) else Path(previous, previous[s]) + [s])\n",
    "\n",
    "assert tuple(transpose(((1, 2, 3), (4, 5, 6)))) == ((1, 4), (2, 5), (3, 6))\n",
    "assert first('abc') == first(['a', 'b', 'c']) == 'a'\n",
    "assert cat(['a', 'b', 'c']) == 'abc'\n",
    "assert (groupby(['test', 'one', 'two', 'three', 'four'], key=len) \n",
    "        == {3: ['one', 'two'], 4: ['test', 'four'], 5: ['three']})\n",
    "\n",
    "#data = Input(1).read()[:-1]"
   ]
  },
  {
   "cell_type": "markdown",
   "metadata": {},
   "source": [
    "day1\n",
    "\n",
    "The captcha requires you to review a sequence of digits (your puzzle input) and find the sum of all digits that match the next digit in the list. The list is circular, so the digit after the last digit is the first digit in the list.\n",
    "\n",
    "Now, instead of considering the next digit, it wants you to consider the digit halfway around the circular list. That is, if your list contains 10 items, only include a digit in your sum if the digit 10/2 = 5 steps forward matches it. Fortunately, your list has an even number of elements."
   ]
  },
  {
   "cell_type": "code",
   "execution_count": null,
   "metadata": {
    "collapsed": false
   },
   "outputs": [],
   "source": [
    "# day 1\n",
    "data = Input(1).read()[:-1] # get rid of the newline character\n",
    "def captcha(string,j):\n",
    "    # j indicates part 1 or two\n",
    "    l = len(string)\n",
    "    res = 0\n",
    "    if j == 1:\n",
    "        diff = 1\n",
    "    if j == 2:\n",
    "        diff = l//2\n",
    "    for i in range(l):\n",
    "        if string[i] == string[(i+diff)%l]:\n",
    "            res += int(string[i])        \n",
    "    return res\n",
    "(captcha(data,1), captcha(data,2))       "
   ]
  },
  {
   "cell_type": "markdown",
   "metadata": {},
   "source": [
    "day 2\n",
    "\n",
    "The spreadsheet consists of rows of apparently-random numbers. To make sure the recovery process is on the right track, they need you to calculate the spreadsheet's checksum. For each row, determine the difference between the largest value and the smallest value; the checksum is the sum of all of these differences.\n",
    "\n",
    "It sounds like the goal is to find the only two numbers in each row where one evenly divides the other - that is, where the result of the division operation is a whole number. They would like you to find those numbers on each line, divide them, and add up each line's result."
   ]
  },
  {
   "cell_type": "code",
   "execution_count": null,
   "metadata": {
    "collapsed": false
   },
   "outputs": [],
   "source": [
    "lines = Input(2).readlines()\n",
    "def checksum1(lines):\n",
    "    checksum = 0\n",
    "    for line in lines:\n",
    "        nums = line.split()\n",
    "        temp = [int(num) for num in nums]\n",
    "        checksum += max(temp) - min(temp)\n",
    "    return checksum\n",
    "checksum1(data)"
   ]
  },
  {
   "cell_type": "code",
   "execution_count": null,
   "metadata": {
    "collapsed": false
   },
   "outputs": [],
   "source": [
    "def checkline(nums):\n",
    "    l = len(nums)\n",
    "    for i in range(l):\n",
    "        for j in range(i+1,l):\n",
    "            if (nums[i]%nums[j]==0 or nums[j]%nums[i]==0):\n",
    "                return max(nums[i]//nums[j], nums[j]//nums[i])    "
   ]
  },
  {
   "cell_type": "code",
   "execution_count": null,
   "metadata": {
    "collapsed": false
   },
   "outputs": [],
   "source": [
    "def checksum2(lines):\n",
    "    checksum = 0\n",
    "    for line in lines:\n",
    "        nums = line.split()\n",
    "        temp = [int(num) for num in nums]\n",
    "        checksum += checkline(temp)\n",
    "    return checksum\n",
    "checksum2(lines)"
   ]
  },
  {
   "cell_type": "markdown",
   "metadata": {},
   "source": [
    "Day 3"
   ]
  },
  {
   "cell_type": "code",
   "execution_count": null,
   "metadata": {
    "collapsed": false
   },
   "outputs": [],
   "source": [
    "N = 265149\n",
    "width = math.ceil(N**(1/2))\n",
    "horizontal = 514/2-(width**2 - N)\n",
    "vertical = 514/2\n",
    "dist = horizontal + vertical\n",
    "dist"
   ]
  },
  {
   "cell_type": "code",
   "execution_count": null,
   "metadata": {
    "collapsed": true
   },
   "outputs": [],
   "source": [
    "def around(nums, i, j):\n",
    "    nums[i][j] = nums[i-1][j-1] + nums[i-1][j] + nums[i-1][j+1] +\\\n",
    "        nums[i][j-1] + nums[i][j+1] + \\\n",
    "        nums[i+1][j-1] + nums[i+1][j] + nums[i+1][j+1]"
   ]
  },
  {
   "cell_type": "code",
   "execution_count": null,
   "metadata": {
    "collapsed": false
   },
   "outputs": [],
   "source": [
    "l = 5;\n",
    "nums = [[0]*l,[0,5,4,2,0],[0,10,1,1,0],[0,11,23,25,0],[0]*l]\n",
    "for l in range(l,10,2):\n",
    "    for i in range(l):\n",
    "        nums[i].append(0)\n",
    "        nums[i].insert(0,0)\n",
    "    nums.insert(0,[0]*(l+2))\n",
    "    nums.append([0]*(l+2))\n",
    "    i = l-1\n",
    "    j = l\n",
    "    for i in range(l-1,0,-1):\n",
    "        around(nums,i,j)\n",
    "    for j in range(l-1,0,-1):\n",
    "        around(nums,i,j)\n",
    "    for i in range(2, l+1):\n",
    "        around(nums,i,j)\n",
    "    for j in range(2, l+1):\n",
    "        around(nums,i,j)\n",
    "print(l)\n",
    "for num in nums:\n",
    "    print(num)"
   ]
  },
  {
   "cell_type": "markdown",
   "metadata": {},
   "source": [
    "Day 4"
   ]
  },
  {
   "cell_type": "code",
   "execution_count": null,
   "metadata": {
    "collapsed": true
   },
   "outputs": [],
   "source": [
    "lines = Input(4).readlines()\n",
    "def checkAna(words):\n",
    "    l = len(words)\n",
    "    for i in range(l):\n",
    "        word_i = sorted(words[i])\n",
    "        for j in range(i+1,l):\n",
    "            word_j = sorted(words[j])\n",
    "            if word_i == word_j:                \n",
    "                return False\n",
    "    return True      "
   ]
  },
  {
   "cell_type": "code",
   "execution_count": null,
   "metadata": {
    "collapsed": false
   },
   "outputs": [],
   "source": [
    "count = 0\n",
    "for line in lines:\n",
    "    words = line.split()\n",
    "    unique = set(words)\n",
    "    if len(unique) == len(words) and checkAna(words):\n",
    "        count += 1    "
   ]
  },
  {
   "cell_type": "code",
   "execution_count": null,
   "metadata": {
    "collapsed": false
   },
   "outputs": [],
   "source": [
    "count"
   ]
  },
  {
   "cell_type": "markdown",
   "metadata": {},
   "source": [
    "Day 5\n",
    "Positive jumps (\"forward\") move downward; negative jumps move upward. For legibility in this example, these offset values will be written all on one line, with the current instruction marked in parentheses\n",
    "\n",
    "Now, the jumps are even stranger: after each jump, if the offset was three or more, instead decrease it by 1. Otherwise, increase it by 1 as before."
   ]
  },
  {
   "cell_type": "code",
   "execution_count": null,
   "metadata": {
    "collapsed": false
   },
   "outputs": [],
   "source": [
    "lines = Input(5).readlines()\n",
    "\n",
    "for i in range(len(lines)):\n",
    "    lines[i] = int(lines[i])\n",
    "\n",
    "#lines = [0,3,0,1,-3]\n",
    "ind = 0\n",
    "count = 0\n",
    "while 0<= ind < len(lines):\n",
    "    jump = lines[ind]\n",
    "    if jump >= 3:\n",
    "        lines[ind] -= 1\n",
    "    else:\n",
    "        lines[ind] += 1\n",
    "    ind += jump    \n",
    "    count += 1\n",
    "count"
   ]
  },
  {
   "cell_type": "markdown",
   "metadata": {},
   "source": [
    "Day 6\n",
    "The reallocation routine operates in cycles. In each cycle, it finds the memory bank with the most blocks (ties won by the lowest-numbered memory bank) and redistributes those blocks among the banks. To do this, it removes all of the blocks from the selected bank, then moves to the next (by index) memory bank and inserts one of the blocks. It continues doing this until it runs out of blocks; if it reaches the last memory bank, it wraps around to the first one.\n",
    "\n",
    "The debugger would like to know how many redistributions can be done before a blocks-in-banks configuration is produced that has been seen before.\n",
    "\n",
    "Out of curiosity, the debugger would also like to know the size of the loop: starting from a state that has already been seen, how many block redistribution cycles must be performed before that same state is seen again?"
   ]
  },
  {
   "cell_type": "code",
   "execution_count": null,
   "metadata": {
    "collapsed": false
   },
   "outputs": [],
   "source": [
    "lines = Input(6).readlines()\n",
    "nums = lines[0].split()\n",
    "for i in range(len(nums)):\n",
    "    nums[i] = int(nums[i])"
   ]
  },
  {
   "cell_type": "code",
   "execution_count": null,
   "metadata": {
    "collapsed": false
   },
   "outputs": [],
   "source": [
    "cycles = []\n",
    "l = len(nums)\n",
    "count = 0\n",
    "while nums not in cycles:\n",
    "    count += 1\n",
    "    cycles.append(nums[:])\n",
    "    m = max(nums)\n",
    "    ind = nums.index(m)    \n",
    "    nums[ind] = 0\n",
    "    for i in range(m):\n",
    "        ind += 1\n",
    "        nums[ind%l] += 1\n",
    "\n",
    "count "
   ]
  },
  {
   "cell_type": "code",
   "execution_count": null,
   "metadata": {
    "collapsed": false
   },
   "outputs": [],
   "source": [
    "count - cycles.index(nums)"
   ]
  },
  {
   "cell_type": "markdown",
   "metadata": {},
   "source": [
    "Day 7"
   ]
  },
  {
   "cell_type": "code",
   "execution_count": null,
   "metadata": {
    "collapsed": false
   },
   "outputs": [],
   "source": [
    "lines = Input('7_1').readlines()"
   ]
  },
  {
   "cell_type": "code",
   "execution_count": null,
   "metadata": {
    "collapsed": false
   },
   "outputs": [],
   "source": [
    "tops = set()\n",
    "bottom = set()\n",
    "for line in lines:\n",
    "    words = line.split()\n",
    "    bottom.add(words[0])\n",
    "    if len(words) > 2:\n",
    "        for i in range(3,len(words)):\n",
    "            tops.add(words[i].replace(\",\", \"\"))\n"
   ]
  },
  {
   "cell_type": "code",
   "execution_count": null,
   "metadata": {
    "collapsed": false
   },
   "outputs": [],
   "source": [
    "tops.symmetric_difference(bottom)"
   ]
  },
  {
   "cell_type": "code",
   "execution_count": null,
   "metadata": {
    "collapsed": true
   },
   "outputs": [],
   "source": [
    "weight = {}\n",
    "for line in lines:\n",
    "    words = line.split()\n",
    "    weight[words[0]] = int(words[1].replace(\"(\",\"\").replace(\")\",\"\"))   "
   ]
  },
  {
   "cell_type": "code",
   "execution_count": null,
   "metadata": {
    "collapsed": false
   },
   "outputs": [],
   "source": [
    "weight"
   ]
  },
  {
   "cell_type": "code",
   "execution_count": null,
   "metadata": {
    "collapsed": false
   },
   "outputs": [],
   "source": [
    "struct = {}\n",
    "for line in lines:\n",
    "    words = line.split()\n",
    "    if len(words) >2:\n",
    "        struct[words[0]] = [words[i].replace(\",\",\"\") for i in range(3,len(words))]\n",
    "struct"
   ]
  },
  {
   "cell_type": "code",
   "execution_count": null,
   "metadata": {
    "collapsed": false
   },
   "outputs": [],
   "source": [
    "class TreeNode():\n",
    "    def __init__(self,initWeight=0):\n",
    "        self.children = list()\n",
    "        self.weight = initWeight\n",
    "\n",
    "    def addChild(self, weight):\n",
    "        self.children.append(TreeNode(weight))"
   ]
  },
  {
   "cell_type": "code",
   "execution_count": null,
   "metadata": {
    "collapsed": false
   },
   "outputs": [],
   "source": [
    "root = TreeNode(weight['tknk'])\n",
    "prevs = struct['tknk']\n",
    "[root.addChild(weight[word]) for word in prevs]\n",
    "temp = root\n",
    "while prevs:\n",
    "    \n",
    "    for word in prevs:\n",
    "        root.addChild(weight[word])\n"
   ]
  },
  {
   "cell_type": "code",
   "execution_count": null,
   "metadata": {
    "collapsed": false
   },
   "outputs": [],
   "source": [
    "root.children[0]"
   ]
  },
  {
   "cell_type": "code",
   "execution_count": null,
   "metadata": {
    "collapsed": false
   },
   "outputs": [],
   "source": [
    "root.children[0].weight"
   ]
  },
  {
   "cell_type": "markdown",
   "metadata": {},
   "source": [
    "Day 8"
   ]
  },
  {
   "cell_type": "code",
   "execution_count": null,
   "metadata": {
    "collapsed": false
   },
   "outputs": [],
   "source": [
    "# read input\n",
    "lines = Input(8).readlines()\n",
    "words = lines[0].split()\n",
    "words"
   ]
  },
  {
   "cell_type": "code",
   "execution_count": null,
   "metadata": {
    "collapsed": false
   },
   "outputs": [],
   "source": [
    "# create a dictionary with each variable following the instructions\n",
    "# return the maximum value for part 1\n",
    "# and store the maximum value encountered for part 2\n",
    "nums = {}\n",
    "m = 0\n",
    "for line in lines:\n",
    "    words = line.split()\n",
    "    cond = words[4]\n",
    "    num = words[0]\n",
    "    if cond not in nums:\n",
    "        nums[cond] = 0\n",
    "    if num not in nums:\n",
    "        nums[num] = 0\n",
    "    if eval(str(nums[cond])+words[5]+words[6]):\n",
    "        flag = -1\n",
    "        if words[1] == 'inc':\n",
    "            flag = 1\n",
    "        nums[num] += flag*int(words[2])\n",
    "    m = max(m, max(nums.values()))\n",
    "m1 = max(nums.values())"
   ]
  },
  {
   "cell_type": "code",
   "execution_count": null,
   "metadata": {
    "collapsed": false
   },
   "outputs": [],
   "source": [
    "m"
   ]
  },
  {
   "cell_type": "markdown",
   "metadata": {},
   "source": [
    "Day 9"
   ]
  },
  {
   "cell_type": "code",
   "execution_count": null,
   "metadata": {
    "collapsed": true
   },
   "outputs": [],
   "source": [
    "# read input\n",
    "lines = Input(9).readlines()\n",
    "s = lines[0]"
   ]
  },
  {
   "cell_type": "code",
   "execution_count": null,
   "metadata": {
    "collapsed": false
   },
   "outputs": [],
   "source": [
    "# remove ! and its next character\n",
    "i = 0\n",
    "l = len(s)\n",
    "while i < l:\n",
    "    c = s[i]\n",
    "    if c == '!':\n",
    "        s = s[:i] + s[i+2:]\n",
    "        i -= 1\n",
    "    l = len(s)\n",
    "    i += 1"
   ]
  },
  {
   "cell_type": "code",
   "execution_count": null,
   "metadata": {
    "collapsed": false
   },
   "outputs": [],
   "source": [
    "# remove trash with <>, and count how many chars removed\n",
    "i = 0\n",
    "l = len(s)\n",
    "st = False\n",
    "count = 0\n",
    "while i < l:\n",
    "    c = s[i]\n",
    "    if c == '<' and (not st):\n",
    "        st = True\n",
    "        si = i\n",
    "    if c == '>' and st:\n",
    "        st = False\n",
    "        s = s[:si] + s[i+1:]        \n",
    "        count += i-si-1\n",
    "        i = si\n",
    "    else:\n",
    "        i += 1\n",
    "    l = len(s)\n",
    "count   "
   ]
  },
  {
   "cell_type": "code",
   "execution_count": null,
   "metadata": {
    "collapsed": false
   },
   "outputs": [],
   "source": [
    "# count total score for groups with {}, each level up has 1 more score\n",
    "i = 0\n",
    "l = len(s)\n",
    "num = 0\n",
    "res = 0\n",
    "while i < l:\n",
    "    c = s[i]\n",
    "    if c == '{':\n",
    "        num += 1\n",
    "        res += num\n",
    "    if c == '}':\n",
    "        num -= 1\n",
    "    l = len(s)\n",
    "    i += 1\n",
    "res"
   ]
  },
  {
   "cell_type": "markdown",
   "metadata": {},
   "source": [
    "Day 10"
   ]
  },
  {
   "cell_type": "code",
   "execution_count": null,
   "metadata": {
    "collapsed": false
   },
   "outputs": [],
   "source": [
    "l = 256\n",
    "list = []\n",
    "for i in range(l):\n",
    "    list.append(i)\n",
    "length = [63,144,180,149,1,255,167,84,125,65,188,0,2,254,229,24]"
   ]
  },
  {
   "cell_type": "code",
   "execution_count": null,
   "metadata": {
    "collapsed": false
   },
   "outputs": [],
   "source": [
    "s = 0\n",
    "cur = 0\n",
    "for le in length:\n",
    "    start = cur\n",
    "    end = cur + le - 1\n",
    "    if end < l:\n",
    "        rev = list[start:end+1]\n",
    "        list[start:end+1] = rev[::-1]\n",
    "    else: # when we have wrap\n",
    "        end = end%l\n",
    "        rev = list[start:] + list[:end+1]\n",
    "        rev = rev[::-1]\n",
    "        list[start:] = rev[:l-start]\n",
    "        list[:end+1] = rev[l-start:]\n",
    "    cur += le + s\n",
    "    cur %= l\n",
    "    s+= 1"
   ]
  },
  {
   "cell_type": "code",
   "execution_count": null,
   "metadata": {
    "collapsed": false
   },
   "outputs": [],
   "source": [
    "list[0]*list[1]"
   ]
  },
  {
   "cell_type": "code",
   "execution_count": null,
   "metadata": {
    "collapsed": false
   },
   "outputs": [],
   "source": [
    "l = 256\n",
    "list = []\n",
    "for i in range(l):\n",
    "    list.append(i)\n",
    "chars = '63,144,180,149,1,255,167,84,125,65,188,0,2,254,229,24'\n",
    "length = [17, 31, 73, 47, 23]\n",
    "s = 0\n",
    "cur = 0\n",
    "for k in range(64):\n",
    "    for i in range(len(length)+len(chars)):\n",
    "        if i < len(chars):\n",
    "            le = ord(chars[i])\n",
    "        else:\n",
    "            le = length[i-len(chars)]   \n",
    "        start = cur\n",
    "        end = cur + le - 1\n",
    "        if end < l:\n",
    "            rev = list[start:end+1]\n",
    "            list[start:end+1] = rev[::-1]\n",
    "        else:\n",
    "            end = end%l\n",
    "            rev = list[start:] + list[:end+1]\n",
    "            rev = rev[::-1]\n",
    "            list[start:] = rev[:l-start]\n",
    "            list[:end+1] = rev[l-start:]\n",
    "        cur += le + s\n",
    "        cur %= l\n",
    "        s+= 1"
   ]
  },
  {
   "cell_type": "code",
   "execution_count": null,
   "metadata": {
    "collapsed": false
   },
   "outputs": [],
   "source": [
    "ind = 0\n",
    "ans = ''\n",
    "for i in range(16):\n",
    "    ind = 16*i\n",
    "    resi = 0\n",
    "    for j in range(16):\n",
    "        resi ^= list[ind]\n",
    "        ind += 1\n",
    "    ansi = hex(resi).split('x')[-1]\n",
    "    if len(ansi) < 2:\n",
    "        ansi = '0' + ansi\n",
    "    ans += ansi"
   ]
  },
  {
   "cell_type": "code",
   "execution_count": null,
   "metadata": {
    "collapsed": false
   },
   "outputs": [],
   "source": [
    "ans"
   ]
  },
  {
   "cell_type": "markdown",
   "metadata": {
    "collapsed": true
   },
   "source": [
    "Day 11"
   ]
  },
  {
   "cell_type": "code",
   "execution_count": null,
   "metadata": {
    "collapsed": false
   },
   "outputs": [],
   "source": [
    "lines = Input(11).readlines()\n",
    "steps = lines[0].split(',')\n",
    "steps[-1] = steps[-1].replace('\\n','')\n",
    "steps[-1]"
   ]
  },
  {
   "cell_type": "markdown",
   "metadata": {},
   "source": [
    "part I"
   ]
  },
  {
   "cell_type": "code",
   "execution_count": null,
   "metadata": {
    "collapsed": false
   },
   "outputs": [],
   "source": [
    "count = [steps.count(d) for d in ['n','ne','se','s','sw','nw']]\n",
    "[count[j]-count[j+3] for j in range(3)]"
   ]
  },
  {
   "cell_type": "code",
   "execution_count": null,
   "metadata": {
    "collapsed": false
   },
   "outputs": [],
   "source": [
    "403+405"
   ]
  },
  {
   "cell_type": "markdown",
   "metadata": {},
   "source": [
    "part II"
   ]
  },
  {
   "cell_type": "code",
   "execution_count": null,
   "metadata": {
    "collapsed": false
   },
   "outputs": [],
   "source": [
    "m = 0\n",
    "for i in range(len(steps)):\n",
    "    count = [steps[:i].count(d) for d in ['n','ne','se','s','sw','nw']]\n",
    "    diff = [count[j]-count[j+3] for j in range(3)]\n",
    "    num = abs(diff[0]+diff[1])\n",
    "    m = max(m,num)\n",
    "m   "
   ]
  },
  {
   "cell_type": "code",
   "execution_count": 69,
   "metadata": {
    "collapsed": false
   },
   "outputs": [],
   "source": [
    "lines = Input('12').readlines()"
   ]
  },
  {
   "cell_type": "code",
   "execution_count": 70,
   "metadata": {
    "collapsed": true
   },
   "outputs": [],
   "source": [
    "dict = {}\n",
    "for line in lines:\n",
    "    line = line.split()\n",
    "    dict[line[0]] = line[2:]\n",
    "for value in dict.values():\n",
    "    for i in range(len(value)):\n",
    "        value[i] = value[i].replace(',','')"
   ]
  },
  {
   "cell_type": "code",
   "execution_count": 71,
   "metadata": {
    "collapsed": false
   },
   "outputs": [
    {
     "data": {
      "text/plain": [
       "2000"
      ]
     },
     "execution_count": 71,
     "metadata": {},
     "output_type": "execute_result"
    }
   ],
   "source": [
    "len(dict)"
   ]
  },
  {
   "cell_type": "code",
   "execution_count": 72,
   "metadata": {
    "collapsed": false
   },
   "outputs": [
    {
     "data": {
      "text/plain": [
       "175"
      ]
     },
     "execution_count": 72,
     "metadata": {},
     "output_type": "execute_result"
    }
   ],
   "source": [
    "s = set()\n",
    "cur = set('0')\n",
    "while len(cur) != 0:\n",
    "    temp = cur\n",
    "    cur = set()\n",
    "    for key in temp:\n",
    "        if key not in s:\n",
    "            cur.update(dict[key])\n",
    "    s.update(temp)\n",
    "len(s)"
   ]
  },
  {
   "cell_type": "code",
   "execution_count": 73,
   "metadata": {
    "collapsed": false
   },
   "outputs": [
    {
     "data": {
      "text/plain": [
       "1659"
      ]
     },
     "execution_count": 73,
     "metadata": {},
     "output_type": "execute_result"
    }
   ],
   "source": [
    "len(dict)\n",
    "count = 0\n",
    "#while len(dict) != 0:\n",
    "s = set()\n",
    "cur = set(list(dict.keys())[0])\n",
    "while len(cur) != 0:\n",
    "    temp = cur\n",
    "    cur = set()\n",
    "    for key in temp:\n",
    "        if key not in s:\n",
    "            cur.update(dict[key])\n",
    "    s.update(temp)\n",
    "for key in s:\n",
    "    del dict[key]\n",
    "count += 1\n",
    "len(dict)"
   ]
  },
  {
   "cell_type": "code",
   "execution_count": 75,
   "metadata": {
    "collapsed": false
   },
   "outputs": [
    {
     "data": {
      "text/plain": [
       "True"
      ]
     },
     "execution_count": 75,
     "metadata": {},
     "output_type": "execute_result"
    }
   ],
   "source": [
    "'0' in s"
   ]
  },
  {
   "cell_type": "code",
   "execution_count": 67,
   "metadata": {
    "collapsed": false
   },
   "outputs": [
    {
     "data": {
      "text/plain": [
       "{'0', '1', '6', '9'}"
      ]
     },
     "execution_count": 67,
     "metadata": {},
     "output_type": "execute_result"
    }
   ],
   "source": [
    "cur = set(list(dict.keys())[0])\n",
    "cur"
   ]
  },
  {
   "cell_type": "code",
   "execution_count": 68,
   "metadata": {
    "collapsed": false
   },
   "outputs": [
    {
     "ename": "KeyError",
     "evalue": "'0'",
     "output_type": "error",
     "traceback": [
      "\u001b[0;31m---------------------------------------------------------------------------\u001b[0m",
      "\u001b[0;31mKeyError\u001b[0m                                  Traceback (most recent call last)",
      "\u001b[0;32m<ipython-input-68-2ac9dcc370a3>\u001b[0m in \u001b[0;36m<module>\u001b[0;34m()\u001b[0m\n\u001b[0;32m----> 1\u001b[0;31m \u001b[0mdict\u001b[0m\u001b[0;34m[\u001b[0m\u001b[0;34m'0'\u001b[0m\u001b[0;34m]\u001b[0m\u001b[0;34m\u001b[0m\u001b[0m\n\u001b[0m",
      "\u001b[0;31mKeyError\u001b[0m: '0'"
     ]
    }
   ],
   "source": [
    "dict['0']"
   ]
  },
  {
   "cell_type": "code",
   "execution_count": 10,
   "metadata": {
    "collapsed": true
   },
   "outputs": [],
   "source": [
    "for key in temp:\n",
    "    cur.update(dict[key])"
   ]
  },
  {
   "cell_type": "code",
   "execution_count": 11,
   "metadata": {
    "collapsed": false
   },
   "outputs": [
    {
     "data": {
      "text/plain": [
       "{'1774', '199'}"
      ]
     },
     "execution_count": 11,
     "metadata": {},
     "output_type": "execute_result"
    }
   ],
   "source": [
    "cur"
   ]
  },
  {
   "cell_type": "code",
   "execution_count": 12,
   "metadata": {
    "collapsed": true
   },
   "outputs": [],
   "source": [
    "s.update(cur)"
   ]
  },
  {
   "cell_type": "code",
   "execution_count": 13,
   "metadata": {
    "collapsed": false
   },
   "outputs": [
    {
     "data": {
      "text/plain": [
       "{'1774', '199'}"
      ]
     },
     "execution_count": 13,
     "metadata": {},
     "output_type": "execute_result"
    }
   ],
   "source": [
    "s"
   ]
  },
  {
   "cell_type": "code",
   "execution_count": 14,
   "metadata": {
    "collapsed": false
   },
   "outputs": [
    {
     "data": {
      "text/plain": [
       "{'1774', '199'}"
      ]
     },
     "execution_count": 14,
     "metadata": {},
     "output_type": "execute_result"
    }
   ],
   "source": [
    "cur"
   ]
  },
  {
   "cell_type": "code",
   "execution_count": 15,
   "metadata": {
    "collapsed": true
   },
   "outputs": [],
   "source": [
    "cur = set()"
   ]
  },
  {
   "cell_type": "code",
   "execution_count": 18,
   "metadata": {
    "collapsed": false
   },
   "outputs": [],
   "source": [
    "assert len(cur) == 0"
   ]
  },
  {
   "cell_type": "markdown",
   "metadata": {},
   "source": [
    "Day 13"
   ]
  },
  {
   "cell_type": "code",
   "execution_count": 118,
   "metadata": {
    "collapsed": true
   },
   "outputs": [],
   "source": [
    "lines = Input(13).readlines()\n",
    "list = []\n",
    "for line in lines:\n",
    "    list.append(line.replace(':','').split())"
   ]
  },
  {
   "cell_type": "code",
   "execution_count": 119,
   "metadata": {
    "collapsed": false
   },
   "outputs": [],
   "source": [
    "def pos(l,d):\n",
    "    pos = l%(2*d-2)\n",
    "    return pos"
   ]
  },
  {
   "cell_type": "code",
   "execution_count": 120,
   "metadata": {
    "collapsed": false
   },
   "outputs": [
    {
     "name": "stdout",
     "output_type": "stream",
     "text": [
      "0 5\n",
      "28 8\n",
      "38 20\n",
      "44 12\n",
      "78 14\n"
     ]
    },
    {
     "data": {
      "text/plain": [
       "2604"
      ]
     },
     "execution_count": 120,
     "metadata": {},
     "output_type": "execute_result"
    }
   ],
   "source": [
    "ans = 0\n",
    "for [l,d] in list:\n",
    "    if pos(int(l),int(d)) == 0:\n",
    "        print(l,d)\n",
    "        ans+= int(l)*int(d)\n",
    "ans"
   ]
  },
  {
   "cell_type": "code",
   "execution_count": 121,
   "metadata": {
    "collapsed": false
   },
   "outputs": [],
   "source": [
    "def caught(delay, list):\n",
    "    for [l,d] in list:\n",
    "        if pos(int(l)+delay,int(d)) == 0:\n",
    "            return True\n",
    "    return False"
   ]
  },
  {
   "cell_type": "code",
   "execution_count": 116,
   "metadata": {
    "collapsed": false
   },
   "outputs": [],
   "source": [
    "delay = 1\n",
    "while caught(delay, list):\n",
    "    delay += 1"
   ]
  },
  {
   "cell_type": "code",
   "execution_count": 117,
   "metadata": {
    "collapsed": false
   },
   "outputs": [
    {
     "data": {
      "text/plain": [
       "3941460"
      ]
     },
     "execution_count": 117,
     "metadata": {},
     "output_type": "execute_result"
    }
   ],
   "source": [
    "delay"
   ]
  },
  {
   "cell_type": "code",
   "execution_count": null,
   "metadata": {
    "collapsed": true
   },
   "outputs": [],
   "source": []
  }
 ],
 "metadata": {
  "kernelspec": {
   "display_name": "Python 3",
   "language": "python",
   "name": "python3"
  },
  "language_info": {
   "codemirror_mode": {
    "name": "ipython",
    "version": 3
   },
   "file_extension": ".py",
   "mimetype": "text/x-python",
   "name": "python",
   "nbconvert_exporter": "python",
   "pygments_lexer": "ipython3",
   "version": "3.4.5"
  }
 },
 "nbformat": 4,
 "nbformat_minor": 2
}
