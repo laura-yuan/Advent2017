{
 "cells": [
  {
   "cell_type": "markdown",
   "metadata": {},
   "source": [
    "Helper functions from \n",
    "https://github.com/norvig/pytudes/blob/master/ipynb/Advent%20of%20Code.ipynb"
   ]
  },
  {
   "cell_type": "code",
   "execution_count": 1,
   "metadata": {
    "collapsed": false
   },
   "outputs": [],
   "source": [
    "# Python 3.x\n",
    "import re\n",
    "import numpy as np\n",
    "import math\n",
    "import urllib.request\n",
    "\n",
    "from collections import Counter, defaultdict, namedtuple, deque\n",
    "from functools   import lru_cache\n",
    "from itertools   import permutations, combinations, chain, cycle, product, islice\n",
    "from heapq       import heappop, heappush\n",
    "\n",
    "def Input(day):\n",
    "    \"Open this day's input file.\"\n",
    "    filename = 'Input/input{}.txt'.format(day)\n",
    "    try:\n",
    "        return open(filename)\n",
    "    except FileNotFoundError:\n",
    "        return urllib.request.urlopen(\"http://adventofcode.com/2017/day/{}/input\".format(day))\n",
    "\n",
    "def transpose(matrix): return zip(*matrix)\n",
    "\n",
    "def first(iterable): return next(iter(iterable))\n",
    "\n",
    "def nth(iterable, n, default=None):\n",
    "    \"Returns the nth item of iterable, or a default value\"\n",
    "    return next(islice(iterable, n, None), default)\n",
    "\n",
    "cat = ''.join\n",
    "\n",
    "Ø   = frozenset() # Empty set\n",
    "inf = float('inf')\n",
    "BIG = 10 ** 999\n",
    "\n",
    "def grep(pattern, lines):\n",
    "    \"Print lines that match pattern.\"\n",
    "    for line in lines:\n",
    "        if re.search(pattern, line):\n",
    "            print(line)\n",
    "\n",
    "def groupby(iterable, key=lambda it: it):\n",
    "    \"Return a dic whose keys are key(it) and whose values are all the elements of iterable with that key.\"\n",
    "    dic = defaultdict(list)\n",
    "    for it in iterable:\n",
    "        dic[key(it)].append(it)\n",
    "    return dic\n",
    "\n",
    "def powerset(iterable):\n",
    "    \"Yield all subsets of items.\"\n",
    "    items = list(iterable)\n",
    "    for r in range(len(items)+1):\n",
    "        for c in combinations(items, r):\n",
    "            yield c\n",
    "\n",
    "# 2-D points implemented using (x, y) tuples\n",
    "def X(point): return point[0]\n",
    "def Y(point): return point[1]\n",
    "\n",
    "def neighbors4(point): \n",
    "    \"The four neighbors (without diagonals).\"\n",
    "    x, y = point\n",
    "    return ((x+1, y), (x-1, y), (x, y+1), (x, y-1))\n",
    "\n",
    "def neighbors8(point): \n",
    "    \"The eight neighbors (with diagonals).\"\n",
    "    x, y = point \n",
    "    return ((x+1, y), (x-1, y), (x, y+1), (x, y-1),\n",
    "            (X+1, y+1), (x-1, y-1), (x+1, y-1), (x-1, y+1))\n",
    "\n",
    "def cityblock_distance(p, q=(0, 0)): \n",
    "    \"City block distance between two points.\"\n",
    "    return abs(X(p) - X(q)) + abs(Y(p) - Y(q))\n",
    "\n",
    "def euclidean_distance(p, q=(0, 0)): \n",
    "    \"Euclidean (hypotenuse) distance between two points.\"\n",
    "    return math.hypot(X(p) - X(q), Y(p) - Y(q))\n",
    "\n",
    "def trace1(f):\n",
    "    \"Print a trace of the input and output of a function on one line.\"\n",
    "    def traced_f(*args):\n",
    "        result = f(*args)\n",
    "        print('{}({}) = {}'.format(f.__name__, ', '.join(map(str, args)), result))\n",
    "        return result\n",
    "    return traced_f\n",
    "\n",
    "def astar_search(start, h_func, moves_func):\n",
    "    \"Find a shortest sequence of states from start to a goal state (a state s with h_func(s) == 0).\"\n",
    "    frontier  = [(h_func(start), start)] # A priority queue, ordered by path length, f = g + h\n",
    "    previous  = {start: None}  # start state has no previous state; other states will\n",
    "    path_cost = {start: 0}     # The cost of the best path to a state.\n",
    "    while frontier:\n",
    "        (f, s) = heappop(frontier)\n",
    "        if h_func(s) == 0:\n",
    "            return Path(previous, s)\n",
    "        for s2 in moves_func(s):\n",
    "            new_cost = path_cost[s] + 1\n",
    "            if s2 not in path_cost or new_cost < path_cost[s2]:\n",
    "                heappush(frontier, (new_cost + h_func(s2), s2))\n",
    "                path_cost[s2] = new_cost\n",
    "                previous[s2] = s\n",
    "    return dict(fail=True, front=len(frontier), prev=len(previous))\n",
    "                \n",
    "def Path(previous, s): \n",
    "    \"Return a list of states that lead to state s, according to the previous dict.\"\n",
    "    return ([] if (s is None) else Path(previous, previous[s]) + [s])\n",
    "\n",
    "assert tuple(transpose(((1, 2, 3), (4, 5, 6)))) == ((1, 4), (2, 5), (3, 6))\n",
    "assert first('abc') == first(['a', 'b', 'c']) == 'a'\n",
    "assert cat(['a', 'b', 'c']) == 'abc'\n",
    "assert (groupby(['test', 'one', 'two', 'three', 'four'], key=len) \n",
    "        == {3: ['one', 'two'], 4: ['test', 'four'], 5: ['three']})\n",
    "\n",
    "#data = Input(1).read()[:-1]"
   ]
  },
  {
   "cell_type": "markdown",
   "metadata": {},
   "source": [
    "day1\n",
    "\n",
    "The captcha requires you to review a sequence of digits (your puzzle input) and find the sum of all digits that match the next digit in the list. The list is circular, so the digit after the last digit is the first digit in the list.\n",
    "\n",
    "Now, instead of considering the next digit, it wants you to consider the digit halfway around the circular list. That is, if your list contains 10 items, only include a digit in your sum if the digit 10/2 = 5 steps forward matches it. Fortunately, your list has an even number of elements."
   ]
  },
  {
   "cell_type": "code",
   "execution_count": null,
   "metadata": {
    "collapsed": false
   },
   "outputs": [],
   "source": [
    "# day 1\n",
    "data = Input(1).read()[:-1] # get rid of the newline character\n",
    "def captcha(string,j):\n",
    "    # j indicates part 1 or two\n",
    "    l = len(string)\n",
    "    res = 0\n",
    "    if j == 1:\n",
    "        diff = 1\n",
    "    if j == 2:\n",
    "        diff = l//2\n",
    "    for i in range(l):\n",
    "        if string[i] == string[(i+diff)%l]:\n",
    "            res += int(string[i])        \n",
    "    return res\n",
    "(captcha(data,1), captcha(data,2))       "
   ]
  },
  {
   "cell_type": "markdown",
   "metadata": {},
   "source": [
    "day 2\n",
    "\n",
    "The spreadsheet consists of rows of apparently-random numbers. To make sure the recovery process is on the right track, they need you to calculate the spreadsheet's checksum. For each row, determine the difference between the largest value and the smallest value; the checksum is the sum of all of these differences.\n",
    "\n",
    "It sounds like the goal is to find the only two numbers in each row where one evenly divides the other - that is, where the result of the division operation is a whole number. They would like you to find those numbers on each line, divide them, and add up each line's result."
   ]
  },
  {
   "cell_type": "code",
   "execution_count": null,
   "metadata": {
    "collapsed": false
   },
   "outputs": [],
   "source": [
    "lines = Input(2).readlines()\n",
    "def checksum1(lines):\n",
    "    checksum = 0\n",
    "    for line in lines:\n",
    "        nums = line.split()\n",
    "        temp = [int(num) for num in nums]\n",
    "        checksum += max(temp) - min(temp)\n",
    "    return checksum\n",
    "checksum1(data)"
   ]
  },
  {
   "cell_type": "code",
   "execution_count": null,
   "metadata": {
    "collapsed": false
   },
   "outputs": [],
   "source": [
    "def checkline(nums):\n",
    "    l = len(nums)\n",
    "    for i in range(l):\n",
    "        for j in range(i+1,l):\n",
    "            if (nums[i]%nums[j]==0 or nums[j]%nums[i]==0):\n",
    "                return max(nums[i]//nums[j], nums[j]//nums[i])    "
   ]
  },
  {
   "cell_type": "code",
   "execution_count": null,
   "metadata": {
    "collapsed": false
   },
   "outputs": [],
   "source": [
    "def checksum2(lines):\n",
    "    checksum = 0\n",
    "    for line in lines:\n",
    "        nums = line.split()\n",
    "        temp = [int(num) for num in nums]\n",
    "        checksum += checkline(temp)\n",
    "    return checksum\n",
    "checksum2(lines)"
   ]
  },
  {
   "cell_type": "markdown",
   "metadata": {},
   "source": [
    "Day 3"
   ]
  },
  {
   "cell_type": "code",
   "execution_count": null,
   "metadata": {
    "collapsed": false
   },
   "outputs": [],
   "source": [
    "N = 265149\n",
    "width = math.ceil(N**(1/2))\n",
    "horizontal = 514/2-(width**2 - N)\n",
    "vertical = 514/2\n",
    "dist = horizontal + vertical\n",
    "dist"
   ]
  },
  {
   "cell_type": "code",
   "execution_count": null,
   "metadata": {
    "collapsed": true
   },
   "outputs": [],
   "source": [
    "def around(nums, i, j):\n",
    "    nums[i][j] = nums[i-1][j-1] + nums[i-1][j] + nums[i-1][j+1] +\\\n",
    "        nums[i][j-1] + nums[i][j+1] + \\\n",
    "        nums[i+1][j-1] + nums[i+1][j] + nums[i+1][j+1]"
   ]
  },
  {
   "cell_type": "code",
   "execution_count": null,
   "metadata": {
    "collapsed": false
   },
   "outputs": [],
   "source": [
    "l = 5;\n",
    "nums = [[0]*l,[0,5,4,2,0],[0,10,1,1,0],[0,11,23,25,0],[0]*l]\n",
    "for l in range(l,10,2):\n",
    "    for i in range(l):\n",
    "        nums[i].append(0)\n",
    "        nums[i].insert(0,0)\n",
    "    nums.insert(0,[0]*(l+2))\n",
    "    nums.append([0]*(l+2))\n",
    "    i = l-1\n",
    "    j = l\n",
    "    for i in range(l-1,0,-1):\n",
    "        around(nums,i,j)\n",
    "    for j in range(l-1,0,-1):\n",
    "        around(nums,i,j)\n",
    "    for i in range(2, l+1):\n",
    "        around(nums,i,j)\n",
    "    for j in range(2, l+1):\n",
    "        around(nums,i,j)\n",
    "print(l)\n",
    "for num in nums:\n",
    "    print(num)"
   ]
  },
  {
   "cell_type": "markdown",
   "metadata": {},
   "source": [
    "Day 4"
   ]
  },
  {
   "cell_type": "code",
   "execution_count": null,
   "metadata": {
    "collapsed": true
   },
   "outputs": [],
   "source": [
    "lines = Input(4).readlines()\n",
    "def checkAna(words):\n",
    "    l = len(words)\n",
    "    for i in range(l):\n",
    "        word_i = sorted(words[i])\n",
    "        for j in range(i+1,l):\n",
    "            word_j = sorted(words[j])\n",
    "            if word_i == word_j:                \n",
    "                return False\n",
    "    return True      "
   ]
  },
  {
   "cell_type": "code",
   "execution_count": null,
   "metadata": {
    "collapsed": false
   },
   "outputs": [],
   "source": [
    "count = 0\n",
    "for line in lines:\n",
    "    words = line.split()\n",
    "    unique = set(words)\n",
    "    if len(unique) == len(words) and checkAna(words):\n",
    "        count += 1    "
   ]
  },
  {
   "cell_type": "code",
   "execution_count": null,
   "metadata": {
    "collapsed": false
   },
   "outputs": [],
   "source": [
    "count"
   ]
  },
  {
   "cell_type": "markdown",
   "metadata": {},
   "source": [
    "Day 5\n",
    "Positive jumps (\"forward\") move downward; negative jumps move upward. For legibility in this example, these offset values will be written all on one line, with the current instruction marked in parentheses\n",
    "\n",
    "Now, the jumps are even stranger: after each jump, if the offset was three or more, instead decrease it by 1. Otherwise, increase it by 1 as before."
   ]
  },
  {
   "cell_type": "code",
   "execution_count": null,
   "metadata": {
    "collapsed": false
   },
   "outputs": [],
   "source": [
    "lines = Input(5).readlines()\n",
    "\n",
    "for i in range(len(lines)):\n",
    "    lines[i] = int(lines[i])\n",
    "\n",
    "#lines = [0,3,0,1,-3]\n",
    "ind = 0\n",
    "count = 0\n",
    "while 0<= ind < len(lines):\n",
    "    jump = lines[ind]\n",
    "    if jump >= 3:\n",
    "        lines[ind] -= 1\n",
    "    else:\n",
    "        lines[ind] += 1\n",
    "    ind += jump    \n",
    "    count += 1\n",
    "count"
   ]
  },
  {
   "cell_type": "markdown",
   "metadata": {},
   "source": [
    "Day 6\n",
    "The reallocation routine operates in cycles. In each cycle, it finds the memory bank with the most blocks (ties won by the lowest-numbered memory bank) and redistributes those blocks among the banks. To do this, it removes all of the blocks from the selected bank, then moves to the next (by index) memory bank and inserts one of the blocks. It continues doing this until it runs out of blocks; if it reaches the last memory bank, it wraps around to the first one.\n",
    "\n",
    "The debugger would like to know how many redistributions can be done before a blocks-in-banks configuration is produced that has been seen before.\n",
    "\n",
    "Out of curiosity, the debugger would also like to know the size of the loop: starting from a state that has already been seen, how many block redistribution cycles must be performed before that same state is seen again?"
   ]
  },
  {
   "cell_type": "code",
   "execution_count": null,
   "metadata": {
    "collapsed": false
   },
   "outputs": [],
   "source": [
    "lines = Input(6).readlines()\n",
    "nums = lines[0].split()\n",
    "for i in range(len(nums)):\n",
    "    nums[i] = int(nums[i])"
   ]
  },
  {
   "cell_type": "code",
   "execution_count": null,
   "metadata": {
    "collapsed": false
   },
   "outputs": [],
   "source": [
    "cycles = []\n",
    "l = len(nums)\n",
    "count = 0\n",
    "while nums not in cycles:\n",
    "    count += 1\n",
    "    cycles.append(nums[:])\n",
    "    m = max(nums)\n",
    "    ind = nums.index(m)    \n",
    "    nums[ind] = 0\n",
    "    for i in range(m):\n",
    "        ind += 1\n",
    "        nums[ind%l] += 1\n",
    "\n",
    "count "
   ]
  },
  {
   "cell_type": "code",
   "execution_count": null,
   "metadata": {
    "collapsed": false
   },
   "outputs": [],
   "source": [
    "count - cycles.index(nums)"
   ]
  },
  {
   "cell_type": "markdown",
   "metadata": {},
   "source": [
    "Day 7"
   ]
  },
  {
   "cell_type": "code",
   "execution_count": null,
   "metadata": {
    "collapsed": false
   },
   "outputs": [],
   "source": [
    "lines = Input('7_1').readlines()"
   ]
  },
  {
   "cell_type": "code",
   "execution_count": null,
   "metadata": {
    "collapsed": false
   },
   "outputs": [],
   "source": [
    "tops = set()\n",
    "bottom = set()\n",
    "for line in lines:\n",
    "    words = line.split()\n",
    "    bottom.add(words[0])\n",
    "    if len(words) > 2:\n",
    "        for i in range(3,len(words)):\n",
    "            tops.add(words[i].replace(\",\", \"\"))\n"
   ]
  },
  {
   "cell_type": "code",
   "execution_count": null,
   "metadata": {
    "collapsed": false
   },
   "outputs": [],
   "source": [
    "tops.symmetric_difference(bottom)"
   ]
  },
  {
   "cell_type": "code",
   "execution_count": null,
   "metadata": {
    "collapsed": true
   },
   "outputs": [],
   "source": [
    "weight = {}\n",
    "for line in lines:\n",
    "    words = line.split()\n",
    "    weight[words[0]] = int(words[1].replace(\"(\",\"\").replace(\")\",\"\"))   "
   ]
  },
  {
   "cell_type": "code",
   "execution_count": null,
   "metadata": {
    "collapsed": false
   },
   "outputs": [],
   "source": [
    "weight"
   ]
  },
  {
   "cell_type": "code",
   "execution_count": null,
   "metadata": {
    "collapsed": false
   },
   "outputs": [],
   "source": [
    "struct = {}\n",
    "for line in lines:\n",
    "    words = line.split()\n",
    "    if len(words) >2:\n",
    "        struct[words[0]] = [words[i].replace(\",\",\"\") for i in range(3,len(words))]\n",
    "struct"
   ]
  },
  {
   "cell_type": "code",
   "execution_count": null,
   "metadata": {
    "collapsed": false
   },
   "outputs": [],
   "source": [
    "class TreeNode():\n",
    "    def __init__(self,initWeight=0):\n",
    "        self.children = list()\n",
    "        self.weight = initWeight\n",
    "\n",
    "    def addChild(self, weight):\n",
    "        self.children.append(TreeNode(weight))"
   ]
  },
  {
   "cell_type": "code",
   "execution_count": null,
   "metadata": {
    "collapsed": false
   },
   "outputs": [],
   "source": [
    "root = TreeNode(weight['tknk'])\n",
    "prevs = struct['tknk']\n",
    "[root.addChild(weight[word]) for word in prevs]\n",
    "temp = root\n",
    "while prevs:\n",
    "    \n",
    "    for word in prevs:\n",
    "        root.addChild(weight[word])\n"
   ]
  },
  {
   "cell_type": "code",
   "execution_count": null,
   "metadata": {
    "collapsed": false
   },
   "outputs": [],
   "source": [
    "root.children[0]"
   ]
  },
  {
   "cell_type": "code",
   "execution_count": null,
   "metadata": {
    "collapsed": false
   },
   "outputs": [],
   "source": [
    "root.children[0].weight"
   ]
  },
  {
   "cell_type": "markdown",
   "metadata": {},
   "source": [
    "Day 8"
   ]
  },
  {
   "cell_type": "code",
   "execution_count": null,
   "metadata": {
    "collapsed": false
   },
   "outputs": [],
   "source": [
    "# read input\n",
    "lines = Input(8).readlines()\n",
    "words = lines[0].split()\n",
    "words"
   ]
  },
  {
   "cell_type": "code",
   "execution_count": null,
   "metadata": {
    "collapsed": false
   },
   "outputs": [],
   "source": [
    "# create a dictionary with each variable following the instructions\n",
    "# return the maximum value for part 1\n",
    "# and store the maximum value encountered for part 2\n",
    "nums = {}\n",
    "m = 0\n",
    "for line in lines:\n",
    "    words = line.split()\n",
    "    cond = words[4]\n",
    "    num = words[0]\n",
    "    if cond not in nums:\n",
    "        nums[cond] = 0\n",
    "    if num not in nums:\n",
    "        nums[num] = 0\n",
    "    if eval(str(nums[cond])+words[5]+words[6]):\n",
    "        flag = -1\n",
    "        if words[1] == 'inc':\n",
    "            flag = 1\n",
    "        nums[num] += flag*int(words[2])\n",
    "    m = max(m, max(nums.values()))\n",
    "m1 = max(nums.values())"
   ]
  },
  {
   "cell_type": "code",
   "execution_count": null,
   "metadata": {
    "collapsed": false
   },
   "outputs": [],
   "source": [
    "m"
   ]
  },
  {
   "cell_type": "markdown",
   "metadata": {},
   "source": [
    "Day 9"
   ]
  },
  {
   "cell_type": "code",
   "execution_count": null,
   "metadata": {
    "collapsed": true
   },
   "outputs": [],
   "source": [
    "# read input\n",
    "lines = Input(9).readlines()\n",
    "s = lines[0]"
   ]
  },
  {
   "cell_type": "code",
   "execution_count": null,
   "metadata": {
    "collapsed": false
   },
   "outputs": [],
   "source": [
    "# remove ! and its next character\n",
    "i = 0\n",
    "l = len(s)\n",
    "while i < l:\n",
    "    c = s[i]\n",
    "    if c == '!':\n",
    "        s = s[:i] + s[i+2:]\n",
    "        i -= 1\n",
    "    l = len(s)\n",
    "    i += 1"
   ]
  },
  {
   "cell_type": "code",
   "execution_count": null,
   "metadata": {
    "collapsed": false
   },
   "outputs": [],
   "source": [
    "# remove trash with <>, and count how many chars removed\n",
    "i = 0\n",
    "l = len(s)\n",
    "st = False\n",
    "count = 0\n",
    "while i < l:\n",
    "    c = s[i]\n",
    "    if c == '<' and (not st):\n",
    "        st = True\n",
    "        si = i\n",
    "    if c == '>' and st:\n",
    "        st = False\n",
    "        s = s[:si] + s[i+1:]        \n",
    "        count += i-si-1\n",
    "        i = si\n",
    "    else:\n",
    "        i += 1\n",
    "    l = len(s)\n",
    "count   "
   ]
  },
  {
   "cell_type": "code",
   "execution_count": null,
   "metadata": {
    "collapsed": false
   },
   "outputs": [],
   "source": [
    "# count total score for groups with {}, each level up has 1 more score\n",
    "i = 0\n",
    "l = len(s)\n",
    "num = 0\n",
    "res = 0\n",
    "while i < l:\n",
    "    c = s[i]\n",
    "    if c == '{':\n",
    "        num += 1\n",
    "        res += num\n",
    "    if c == '}':\n",
    "        num -= 1\n",
    "    l = len(s)\n",
    "    i += 1\n",
    "res"
   ]
  },
  {
   "cell_type": "markdown",
   "metadata": {},
   "source": [
    "Day 10"
   ]
  },
  {
   "cell_type": "code",
   "execution_count": 122,
   "metadata": {
    "collapsed": false
   },
   "outputs": [],
   "source": [
    "l = 256\n",
    "list = []\n",
    "for i in range(l):\n",
    "    list.append(i)\n",
    "length = [63,144,180,149,1,255,167,84,125,65,188,0,2,254,229,24]"
   ]
  },
  {
   "cell_type": "code",
   "execution_count": 123,
   "metadata": {
    "collapsed": false
   },
   "outputs": [],
   "source": [
    "s = 0\n",
    "cur = 0\n",
    "for le in length:\n",
    "    start = cur\n",
    "    end = cur + le - 1\n",
    "    if end < l:\n",
    "        rev = list[start:end+1]\n",
    "        list[start:end+1] = rev[::-1]\n",
    "    else: # when we have wrap\n",
    "        end = end%l\n",
    "        rev = list[start:] + list[:end+1]\n",
    "        rev = rev[::-1]\n",
    "        list[start:] = rev[:l-start]\n",
    "        list[:end+1] = rev[l-start:]\n",
    "    cur += le + s\n",
    "    cur %= l\n",
    "    s+= 1"
   ]
  },
  {
   "cell_type": "code",
   "execution_count": 124,
   "metadata": {
    "collapsed": false
   },
   "outputs": [
    {
     "data": {
      "text/plain": [
       "4480"
      ]
     },
     "execution_count": 124,
     "metadata": {},
     "output_type": "execute_result"
    }
   ],
   "source": [
    "list[0]*list[1]"
   ]
  },
  {
   "cell_type": "code",
   "execution_count": 185,
   "metadata": {
    "collapsed": true
   },
   "outputs": [],
   "source": [
    "chars = '63,144,180,149,1,255,167,84,125,65,188,0,2,254,229,24'"
   ]
  },
  {
   "cell_type": "code",
   "execution_count": 186,
   "metadata": {
    "collapsed": false
   },
   "outputs": [],
   "source": [
    "def knothash(chars, l):\n",
    "    list = []\n",
    "    for i in range(l):\n",
    "        list.append(i)\n",
    "    length = [17, 31, 73, 47, 23]\n",
    "    s = 0\n",
    "    cur = 0\n",
    "    for k in range(l//4):\n",
    "        for i in range(len(length)+len(chars)):\n",
    "            if i < len(chars):\n",
    "                le = ord(chars[i])\n",
    "            else:\n",
    "                le = length[i-len(chars)]   \n",
    "            start = cur\n",
    "            end = cur + le - 1\n",
    "            if end < l:\n",
    "                rev = list[start:end+1]\n",
    "                list[start:end+1] = rev[::-1]\n",
    "            else:\n",
    "                end = end%l\n",
    "                rev = list[start:] + list[:end+1]\n",
    "                rev = rev[::-1]\n",
    "                list[start:] = rev[:l-start]\n",
    "                list[:end+1] = rev[l-start:]\n",
    "            cur += le + s\n",
    "            cur %= l\n",
    "            s+= 1\n",
    "\n",
    "    ind = 0\n",
    "    ans = ''\n",
    "    for i in range(l//16):\n",
    "        ind = (l//16)*i\n",
    "        resi = 0\n",
    "        for j in range(16):\n",
    "            resi ^= list[ind]\n",
    "            ind += 1\n",
    "        ansi = hex(resi).split('x')[-1]\n",
    "        if len(ansi) < 2:\n",
    "            ansi = '0' + ansi\n",
    "        ans += ansi\n",
    "    return ans"
   ]
  },
  {
   "cell_type": "code",
   "execution_count": 187,
   "metadata": {
    "collapsed": false,
    "scrolled": true
   },
   "outputs": [
    {
     "data": {
      "text/plain": [
       "'c500ffe015c83b60fad2e4b7d59dabc4'"
      ]
     },
     "execution_count": 187,
     "metadata": {},
     "output_type": "execute_result"
    }
   ],
   "source": [
    "knothash(chars, 256)"
   ]
  },
  {
   "cell_type": "code",
   "execution_count": 156,
   "metadata": {
    "collapsed": false
   },
   "outputs": [
    {
     "data": {
      "text/plain": [
       "256"
      ]
     },
     "execution_count": 156,
     "metadata": {},
     "output_type": "execute_result"
    }
   ],
   "source": [
    "16*16"
   ]
  },
  {
   "cell_type": "markdown",
   "metadata": {
    "collapsed": true
   },
   "source": [
    "Day 11"
   ]
  },
  {
   "cell_type": "code",
   "execution_count": null,
   "metadata": {
    "collapsed": false
   },
   "outputs": [],
   "source": [
    "lines = Input(11).readlines()\n",
    "steps = lines[0].split(',')\n",
    "steps[-1] = steps[-1].replace('\\n','')\n",
    "steps[-1]"
   ]
  },
  {
   "cell_type": "markdown",
   "metadata": {},
   "source": [
    "part I"
   ]
  },
  {
   "cell_type": "code",
   "execution_count": null,
   "metadata": {
    "collapsed": false
   },
   "outputs": [],
   "source": [
    "count = [steps.count(d) for d in ['n','ne','se','s','sw','nw']]\n",
    "[count[j]-count[j+3] for j in range(3)]"
   ]
  },
  {
   "cell_type": "code",
   "execution_count": null,
   "metadata": {
    "collapsed": false
   },
   "outputs": [],
   "source": [
    "403+405"
   ]
  },
  {
   "cell_type": "markdown",
   "metadata": {},
   "source": [
    "part II"
   ]
  },
  {
   "cell_type": "code",
   "execution_count": null,
   "metadata": {
    "collapsed": false
   },
   "outputs": [],
   "source": [
    "m = 0\n",
    "for i in range(len(steps)):\n",
    "    count = [steps[:i].count(d) for d in ['n','ne','se','s','sw','nw']]\n",
    "    diff = [count[j]-count[j+3] for j in range(3)]\n",
    "    num = abs(diff[0]+diff[1])\n",
    "    m = max(m,num)\n",
    "m   "
   ]
  },
  {
   "cell_type": "markdown",
   "metadata": {},
   "source": [
    "Day 12"
   ]
  },
  {
   "cell_type": "code",
   "execution_count": 69,
   "metadata": {
    "collapsed": false
   },
   "outputs": [],
   "source": [
    "lines = Input('12').readlines()"
   ]
  },
  {
   "cell_type": "code",
   "execution_count": 70,
   "metadata": {
    "collapsed": true
   },
   "outputs": [],
   "source": [
    "dict = {}\n",
    "for line in lines:\n",
    "    line = line.split()\n",
    "    dict[line[0]] = line[2:]\n",
    "for value in dict.values():\n",
    "    for i in range(len(value)):\n",
    "        value[i] = value[i].replace(',','')"
   ]
  },
  {
   "cell_type": "code",
   "execution_count": 71,
   "metadata": {
    "collapsed": false
   },
   "outputs": [
    {
     "data": {
      "text/plain": [
       "2000"
      ]
     },
     "execution_count": 71,
     "metadata": {},
     "output_type": "execute_result"
    }
   ],
   "source": [
    "len(dict)"
   ]
  },
  {
   "cell_type": "code",
   "execution_count": 72,
   "metadata": {
    "collapsed": false
   },
   "outputs": [
    {
     "data": {
      "text/plain": [
       "175"
      ]
     },
     "execution_count": 72,
     "metadata": {},
     "output_type": "execute_result"
    }
   ],
   "source": [
    "s = set()\n",
    "cur = set('0')\n",
    "while len(cur) != 0:\n",
    "    temp = cur\n",
    "    cur = set()\n",
    "    for key in temp:\n",
    "        if key not in s:\n",
    "            cur.update(dict[key])\n",
    "    s.update(temp)\n",
    "len(s)"
   ]
  },
  {
   "cell_type": "code",
   "execution_count": 73,
   "metadata": {
    "collapsed": false
   },
   "outputs": [
    {
     "data": {
      "text/plain": [
       "1659"
      ]
     },
     "execution_count": 73,
     "metadata": {},
     "output_type": "execute_result"
    }
   ],
   "source": [
    "len(dict)\n",
    "count = 0\n",
    "#while len(dict) != 0:\n",
    "s = set()\n",
    "cur = set(list(dict.keys())[0])\n",
    "while len(cur) != 0:\n",
    "    temp = cur\n",
    "    cur = set()\n",
    "    for key in temp:\n",
    "        if key not in s:\n",
    "            cur.update(dict[key])\n",
    "    s.update(temp)\n",
    "for key in s:\n",
    "    del dict[key]\n",
    "count += 1\n",
    "len(dict)"
   ]
  },
  {
   "cell_type": "code",
   "execution_count": 75,
   "metadata": {
    "collapsed": false
   },
   "outputs": [
    {
     "data": {
      "text/plain": [
       "True"
      ]
     },
     "execution_count": 75,
     "metadata": {},
     "output_type": "execute_result"
    }
   ],
   "source": [
    "'0' in s"
   ]
  },
  {
   "cell_type": "code",
   "execution_count": 67,
   "metadata": {
    "collapsed": false
   },
   "outputs": [
    {
     "data": {
      "text/plain": [
       "{'0', '1', '6', '9'}"
      ]
     },
     "execution_count": 67,
     "metadata": {},
     "output_type": "execute_result"
    }
   ],
   "source": [
    "cur = set(list(dict.keys())[0])\n",
    "cur"
   ]
  },
  {
   "cell_type": "code",
   "execution_count": 68,
   "metadata": {
    "collapsed": false
   },
   "outputs": [
    {
     "ename": "KeyError",
     "evalue": "'0'",
     "output_type": "error",
     "traceback": [
      "\u001b[0;31m---------------------------------------------------------------------------\u001b[0m",
      "\u001b[0;31mKeyError\u001b[0m                                  Traceback (most recent call last)",
      "\u001b[0;32m<ipython-input-68-2ac9dcc370a3>\u001b[0m in \u001b[0;36m<module>\u001b[0;34m()\u001b[0m\n\u001b[0;32m----> 1\u001b[0;31m \u001b[0mdict\u001b[0m\u001b[0;34m[\u001b[0m\u001b[0;34m'0'\u001b[0m\u001b[0;34m]\u001b[0m\u001b[0;34m\u001b[0m\u001b[0m\n\u001b[0m",
      "\u001b[0;31mKeyError\u001b[0m: '0'"
     ]
    }
   ],
   "source": [
    "dict['0']"
   ]
  },
  {
   "cell_type": "code",
   "execution_count": 10,
   "metadata": {
    "collapsed": true
   },
   "outputs": [],
   "source": [
    "for key in temp:\n",
    "    cur.update(dict[key])"
   ]
  },
  {
   "cell_type": "code",
   "execution_count": 11,
   "metadata": {
    "collapsed": false
   },
   "outputs": [
    {
     "data": {
      "text/plain": [
       "{'1774', '199'}"
      ]
     },
     "execution_count": 11,
     "metadata": {},
     "output_type": "execute_result"
    }
   ],
   "source": [
    "cur"
   ]
  },
  {
   "cell_type": "code",
   "execution_count": 12,
   "metadata": {
    "collapsed": true
   },
   "outputs": [],
   "source": [
    "s.update(cur)"
   ]
  },
  {
   "cell_type": "code",
   "execution_count": 13,
   "metadata": {
    "collapsed": false
   },
   "outputs": [
    {
     "data": {
      "text/plain": [
       "{'1774', '199'}"
      ]
     },
     "execution_count": 13,
     "metadata": {},
     "output_type": "execute_result"
    }
   ],
   "source": [
    "s"
   ]
  },
  {
   "cell_type": "code",
   "execution_count": 14,
   "metadata": {
    "collapsed": false
   },
   "outputs": [
    {
     "data": {
      "text/plain": [
       "{'1774', '199'}"
      ]
     },
     "execution_count": 14,
     "metadata": {},
     "output_type": "execute_result"
    }
   ],
   "source": [
    "cur"
   ]
  },
  {
   "cell_type": "code",
   "execution_count": 15,
   "metadata": {
    "collapsed": true
   },
   "outputs": [],
   "source": [
    "cur = set()"
   ]
  },
  {
   "cell_type": "code",
   "execution_count": 18,
   "metadata": {
    "collapsed": false
   },
   "outputs": [],
   "source": [
    "assert len(cur) == 0"
   ]
  },
  {
   "cell_type": "markdown",
   "metadata": {},
   "source": [
    "Day 13"
   ]
  },
  {
   "cell_type": "code",
   "execution_count": 304,
   "metadata": {
    "collapsed": true
   },
   "outputs": [],
   "source": [
    "lines = Input(13).readlines()\n",
    "list = []\n",
    "for line in lines:\n",
    "    list.append(line.replace(':','').split())"
   ]
  },
  {
   "cell_type": "code",
   "execution_count": 305,
   "metadata": {
    "collapsed": false
   },
   "outputs": [],
   "source": [
    "def pos(l,d):\n",
    "    pos = l%(2*d-2)\n",
    "    return pos"
   ]
  },
  {
   "cell_type": "code",
   "execution_count": 306,
   "metadata": {
    "collapsed": false
   },
   "outputs": [
    {
     "data": {
      "text/plain": [
       "2604"
      ]
     },
     "execution_count": 306,
     "metadata": {},
     "output_type": "execute_result"
    }
   ],
   "source": [
    "ans = 0\n",
    "for [l,d] in list:\n",
    "    if pos(int(l),int(d)) == 0:\n",
    "        ans+= int(l)*int(d)\n",
    "ans"
   ]
  },
  {
   "cell_type": "code",
   "execution_count": 307,
   "metadata": {
    "collapsed": false
   },
   "outputs": [],
   "source": [
    "def caught(delay, list):\n",
    "    for [l,d] in list:\n",
    "        if pos(int(l)+delay,int(d)) == 0:\n",
    "            return True\n",
    "    return False"
   ]
  },
  {
   "cell_type": "code",
   "execution_count": 308,
   "metadata": {
    "collapsed": false
   },
   "outputs": [],
   "source": [
    "delay = 1\n",
    "while caught(delay, list):\n",
    "    delay += 1"
   ]
  },
  {
   "cell_type": "code",
   "execution_count": 309,
   "metadata": {
    "collapsed": false
   },
   "outputs": [
    {
     "data": {
      "text/plain": [
       "3941460"
      ]
     },
     "execution_count": 309,
     "metadata": {},
     "output_type": "execute_result"
    }
   ],
   "source": [
    "delay"
   ]
  },
  {
   "cell_type": "markdown",
   "metadata": {},
   "source": [
    "Day 14"
   ]
  },
  {
   "cell_type": "code",
   "execution_count": 310,
   "metadata": {
    "collapsed": true
   },
   "outputs": [],
   "source": [
    "import binascii"
   ]
  },
  {
   "cell_type": "code",
   "execution_count": 311,
   "metadata": {
    "collapsed": false
   },
   "outputs": [
    {
     "data": {
      "text/plain": [
       "8250"
      ]
     },
     "execution_count": 311,
     "metadata": {},
     "output_type": "execute_result"
    }
   ],
   "source": [
    "char = 'stpzcrnm'\n",
    "l = 256\n",
    "ans = 0\n",
    "for i in range(128):\n",
    "    c = char + '-' + str(i)\n",
    "    c = knothash(c, l)\n",
    "    for j in c:\n",
    "        temp = bin(int(j, 16))[2:]\n",
    "        for k in temp:\n",
    "            ans += int(k)\n",
    "ans"
   ]
  },
  {
   "cell_type": "code",
   "execution_count": 347,
   "metadata": {
    "collapsed": false
   },
   "outputs": [],
   "source": [
    "char = 'stpzcrnm'\n",
    "l = 256\n",
    "sqr = []\n",
    "for i in range(128):\n",
    "    c = char + '-' + str(i)\n",
    "    c = knothash(c, l)\n",
    "    sqr.append('')\n",
    "    for j in c:\n",
    "        temp = bin(int(j, 16))[2:]\n",
    "        sqr[-1] += '0'*(4-len(temp)) + temp"
   ]
  },
  {
   "cell_type": "code",
   "execution_count": 348,
   "metadata": {
    "collapsed": false
   },
   "outputs": [],
   "source": [
    "square = []\n",
    "for i in range(128):\n",
    "    square.append([])\n",
    "    for c in sqr[i]:\n",
    "        square[-1].append(int(c))"
   ]
  },
  {
   "cell_type": "code",
   "execution_count": 350,
   "metadata": {
    "collapsed": false
   },
   "outputs": [],
   "source": [
    "def color(sqr, i, j, c):\n",
    "    if sqr[i][j] != 1:\n",
    "        return (sqr, False)\n",
    "    def dfs(i1,j1):\n",
    "        if sqr[i1][j1] == 1:\n",
    "            sqr[i1][j1] = c\n",
    "            if i1 >= 1: dfs(i1-1, j1)\n",
    "            if i1 < 127: dfs(i1+1, j1)\n",
    "            if j1 >= 1: dfs(i1, j1-1)\n",
    "            if j1 < 127: dfs(i1, j1+1)\n",
    "    dfs(i,j)\n",
    "    return (sqr, True)"
   ]
  },
  {
   "cell_type": "code",
   "execution_count": 351,
   "metadata": {
    "collapsed": false
   },
   "outputs": [],
   "source": [
    "count = 2\n",
    "for i in range(128):\n",
    "    for j in range(128):\n",
    "        (square, region) = color(square, i, j, count)\n",
    "        if region:\n",
    "            count += 1"
   ]
  },
  {
   "cell_type": "code",
   "execution_count": 345,
   "metadata": {
    "collapsed": false
   },
   "outputs": [
    {
     "data": {
      "text/plain": [
       "[[2, 2, 0, 3, 0, 4, 0, 0],\n",
       " [0, 2, 0, 3, 0, 4, 0, 5],\n",
       " [0, 0, 0, 0, 31, 0, 32, 0],\n",
       " [39, 0, 6, 0, 31, 31, 0, 40],\n",
       " [0, 6, 6, 0, 31, 0, 0, 0],\n",
       " [6, 6, 0, 0, 31, 0, 0, 6],\n",
       " [0, 6, 0, 0, 0, 6, 0, 0],\n",
       " [6, 6, 0, 6, 0, 6, 6, 0]]"
      ]
     },
     "execution_count": 345,
     "metadata": {},
     "output_type": "execute_result"
    }
   ],
   "source": [
    "[square[i][:8] for i in range(8)]"
   ]
  },
  {
   "cell_type": "code",
   "execution_count": 352,
   "metadata": {
    "collapsed": false
   },
   "outputs": [
    {
     "data": {
      "text/plain": [
       "1113"
      ]
     },
     "execution_count": 352,
     "metadata": {},
     "output_type": "execute_result"
    }
   ],
   "source": [
    "count-2"
   ]
  },
  {
   "cell_type": "markdown",
   "metadata": {},
   "source": [
    "Day 15"
   ]
  },
  {
   "cell_type": "code",
   "execution_count": 301,
   "metadata": {
    "collapsed": true
   },
   "outputs": [],
   "source": [
    "a0 = 277\n",
    "b0 = 349\n",
    "fa = 16807\n",
    "fb = 48271\n",
    "d = 2147483647"
   ]
  },
  {
   "cell_type": "code",
   "execution_count": 302,
   "metadata": {
    "collapsed": false
   },
   "outputs": [],
   "source": [
    "count = 0\n",
    "#nums = []\n",
    "#bins = []\n",
    "i = 0\n",
    "for i in range(5000000):\n",
    "    a0 = a0*fa%d\n",
    "    while a0%4 != 0:\n",
    "        a0 = a0*fa%d\n",
    "    b0 = b0*fb%d\n",
    "    while b0%8 != 0:\n",
    "        b0 = b0*fb%d\n",
    "    #nums.append((tempa,tempb))\n",
    "    #bins.append((bin(a0)[-16:], bin(b0)[-16:]))\n",
    "    if bin(a0)[-16:] == bin(b0)[-16:]:\n",
    "        count += 1"
   ]
  },
  {
   "cell_type": "code",
   "execution_count": 303,
   "metadata": {
    "collapsed": false
   },
   "outputs": [
    {
     "data": {
      "text/plain": [
       "320"
      ]
     },
     "execution_count": 303,
     "metadata": {},
     "output_type": "execute_result"
    }
   ],
   "source": [
    "count"
   ]
  },
  {
   "cell_type": "markdown",
   "metadata": {},
   "source": [
    "Day 16"
   ]
  },
  {
   "cell_type": "code",
   "execution_count": 459,
   "metadata": {
    "collapsed": true
   },
   "outputs": [],
   "source": [
    "M = Input(16).readlines()\n",
    "M = M[0].split(',')\n",
    "L = [c for c in 'abcdefghijklmnop']"
   ]
  },
  {
   "cell_type": "code",
   "execution_count": 462,
   "metadata": {
    "collapsed": false
   },
   "outputs": [],
   "source": [
    "def dance(L1,M):\n",
    "    L = L1[:] # make a copy to leave the original list unchanged\n",
    "    for m in M:\n",
    "        d = m[0]\n",
    "        if d == 's':\n",
    "            n = int(m[1:])\n",
    "            L = L[-n:] + L[:-n]\n",
    "        elif d == 'x':\n",
    "            [i,j] = m[1:].split('/')\n",
    "            i = int(i)\n",
    "            j = int(j)\n",
    "            L[i], L[j] = L[j], L[i]\n",
    "        elif d == 'p':\n",
    "            [a,b] = m[1:].split('/')\n",
    "            i = L.index(a)\n",
    "            j = L.index(b)\n",
    "            L[i], L[j] = L[j], L[i]\n",
    "    return L"
   ]
  },
  {
   "cell_type": "code",
   "execution_count": 470,
   "metadata": {
    "collapsed": false
   },
   "outputs": [
    {
     "data": {
      "text/plain": [
       "'iabmedjhclofgknp'"
      ]
     },
     "execution_count": 470,
     "metadata": {},
     "output_type": "execute_result"
    }
   ],
   "source": [
    "L1 = dance(L,M)\n",
    "ans = ''\n",
    "for i in range(len(L1)):\n",
    "    ans += L1[i]\n",
    "ans"
   ]
  },
  {
   "cell_type": "code",
   "execution_count": 472,
   "metadata": {
    "collapsed": false
   },
   "outputs": [],
   "source": [
    "ans = ''\n",
    "for i in range(len(L)):\n",
    "    ans += L[i]\n",
    "ans\n",
    "T = [ans]\n",
    "L1 = L\n",
    "for k in range(100):\n",
    "    L1 = dance(L1,M)\n",
    "    ans = ''\n",
    "    for i in range(len(L1)):\n",
    "        ans += L1[i]\n",
    "    if ans in T:\n",
    "        break\n",
    "    else:\n",
    "        T.append(ans)"
   ]
  },
  {
   "cell_type": "code",
   "execution_count": 474,
   "metadata": {
    "collapsed": false
   },
   "outputs": [
    {
     "data": {
      "text/plain": [
       "'oildcmfeajhbpngk'"
      ]
     },
     "execution_count": 474,
     "metadata": {},
     "output_type": "execute_result"
    }
   ],
   "source": [
    "T[(1000000000)%(k+1)]"
   ]
  },
  {
   "cell_type": "markdown",
   "metadata": {},
   "source": [
    "Day 17"
   ]
  },
  {
   "cell_type": "code",
   "execution_count": 4,
   "metadata": {
    "collapsed": false
   },
   "outputs": [
    {
     "name": "stdout",
     "output_type": "stream",
     "text": [
      "180\n"
     ]
    }
   ],
   "source": [
    "step = 316\n",
    "last = 2017\n",
    "L = [0]\n",
    "cur = 0\n",
    "for i in range(1,last+1):\n",
    "    cur = (cur+step)%(i)+1\n",
    "    L.insert(cur,i)\n",
    "print(L[cur+1])"
   ]
  },
  {
   "cell_type": "code",
   "execution_count": 9,
   "metadata": {
    "collapsed": false
   },
   "outputs": [
    {
     "data": {
      "text/plain": [
       "13326437"
      ]
     },
     "execution_count": 9,
     "metadata": {},
     "output_type": "execute_result"
    }
   ],
   "source": [
    "step = 316\n",
    "last = 50000000\n",
    "ind = 0\n",
    "nex = 1\n",
    "cur = 1\n",
    "for i in range(2,last+1):\n",
    "    cur = (cur+step)%(i)+1\n",
    "    #print(cur)\n",
    "    if cur <= ind:\n",
    "        ind += 1\n",
    "        #print(ind)\n",
    "    if cur == ind+1:\n",
    "        nex = i\n",
    "        #print(nex)\n",
    "nex"
   ]
  },
  {
   "cell_type": "code",
   "execution_count": 6,
   "metadata": {
    "collapsed": false
   },
   "outputs": [
    {
     "data": {
      "text/plain": [
       "[0, 526]"
      ]
     },
     "execution_count": 6,
     "metadata": {},
     "output_type": "execute_result"
    }
   ],
   "source": [
    "L[L.index(0):L.index(0)+2]"
   ]
  },
  {
   "cell_type": "code",
   "execution_count": 8,
   "metadata": {
    "collapsed": false
   },
   "outputs": [
    {
     "data": {
      "text/plain": [
       "526"
      ]
     },
     "execution_count": 8,
     "metadata": {},
     "output_type": "execute_result"
    }
   ],
   "source": [
    "nex"
   ]
  },
  {
   "cell_type": "markdown",
   "metadata": {},
   "source": [
    "Day 18"
   ]
  },
  {
   "cell_type": "code",
   "execution_count": 128,
   "metadata": {
    "collapsed": false
   },
   "outputs": [],
   "source": [
    "lines = Input('18').readlines()\n",
    "for i in range(len(lines)):\n",
    "    lines[i] = lines[i].split()"
   ]
  },
  {
   "cell_type": "code",
   "execution_count": 129,
   "metadata": {
    "collapsed": true
   },
   "outputs": [],
   "source": [
    "def getVal(s, regis):\n",
    "    if s in regis:\n",
    "        return regis[s]\n",
    "    else:\n",
    "        return int(s)"
   ]
  },
  {
   "cell_type": "code",
   "execution_count": 130,
   "metadata": {
    "collapsed": false
   },
   "outputs": [
    {
     "name": "stdout",
     "output_type": "stream",
     "text": [
      "2951\n"
     ]
    }
   ],
   "source": [
    "sound = []\n",
    "regis = {}\n",
    "i = 0\n",
    "while i < len(lines):\n",
    "    line = lines[i]\n",
    "    ins = line[0]\n",
    "    reg = line[1]\n",
    "    #print(line)\n",
    "    if len(line) > 2:\n",
    "        val = getVal(line[2], regis)\n",
    "    if reg not in regis:\n",
    "        regis[reg] = 0\n",
    "    if ins == 'snd':\n",
    "        sound.append(getVal(reg, regis))\n",
    "    if ins == 'set':\n",
    "        regis[reg] = val\n",
    "    if ins == 'add':\n",
    "        regis[reg] += val\n",
    "    if ins == 'mul':\n",
    "        regis[reg] *= val\n",
    "    if ins == 'mod':\n",
    "        regis[reg] %= val\n",
    "    if ins == 'rcv' and regis[reg] != 0:\n",
    "        regis[reg] = sound[-1]\n",
    "        print(sound[-1])\n",
    "        break\n",
    "    if ins == 'jgz' and regis[reg] > 0:\n",
    "        i += val\n",
    "    else:\n",
    "        i += 1\n",
    "    #print(regis)"
   ]
  },
  {
   "cell_type": "code",
   "execution_count": 171,
   "metadata": {
    "collapsed": true
   },
   "outputs": [],
   "source": [
    "from collections import defaultdict\n",
    "\n",
    "def getVal(s, regis):\n",
    "    return regis[s] if s.isalpha() else int(s)"
   ]
  },
  {
   "cell_type": "code",
   "execution_count": 173,
   "metadata": {
    "collapsed": true
   },
   "outputs": [],
   "source": [
    "def regisStep(lines, regis, i, inQ, outQ):    \n",
    "    ins, reg, val = lines[i]\n",
    "    regV, val = getVal(reg, regis), getVal(val, regis)   \n",
    "    if ins == 'snd':\n",
    "        outQ.append(regV)\n",
    "    elif ins == 'set':\n",
    "        regis[reg] = val\n",
    "    elif ins == 'add':\n",
    "        regis[reg] += val\n",
    "    elif ins == 'mul':\n",
    "        regis[reg] *= val\n",
    "    elif ins == 'mod':\n",
    "        #if val != 0:\n",
    "        regis[reg] %= val\n",
    "    elif ins == 'rcv':\n",
    "        if not inQ:\n",
    "            return None\n",
    "        regis[reg] = inQ.pop(0)\n",
    "    elif ins == 'jgz' and regV > 0:\n",
    "        return i + val\n",
    "    return i + 1"
   ]
  },
  {
   "cell_type": "code",
   "execution_count": 174,
   "metadata": {
    "collapsed": true
   },
   "outputs": [],
   "source": [
    "lines = Input('18').readlines()\n",
    "data = [tuple(line.strip().split(\" \") + ['-1'])[:3] for line in lines]\n",
    "# strip trims leading and ending white spaces\n",
    "\n",
    "regis0 = defaultdict(int, {'p':0})\n",
    "regis1 = defaultdict(int, {'p':1})\n",
    "inQ0, inQ1 = [], []\n",
    "i0, i1 = 0, 0\n",
    "count1 = 0"
   ]
  },
  {
   "cell_type": "code",
   "execution_count": 175,
   "metadata": {
    "collapsed": false
   },
   "outputs": [],
   "source": [
    "while True:\n",
    "    while True:\n",
    "        nexti = regisStep(data, regis0, i0, inQ0, inQ1)\n",
    "        if nexti is None:\n",
    "            break\n",
    "        i0 = nexti\n",
    "    while True:\n",
    "        if data[i1][0] == 'snd':\n",
    "            count1 += 1\n",
    "        nexti = regisStep(data, regis1, i1, inQ1, inQ0)\n",
    "        if nexti is None:\n",
    "            break\n",
    "        i1 = nexti\n",
    "    if not inQ0 and not inQ1:\n",
    "        break"
   ]
  },
  {
   "cell_type": "code",
   "execution_count": 176,
   "metadata": {
    "collapsed": false
   },
   "outputs": [
    {
     "data": {
      "text/plain": [
       "7366"
      ]
     },
     "execution_count": 176,
     "metadata": {},
     "output_type": "execute_result"
    }
   ],
   "source": [
    "count1"
   ]
  },
  {
   "cell_type": "code",
   "execution_count": 160,
   "metadata": {
    "collapsed": false
   },
   "outputs": [
    {
     "data": {
      "text/plain": [
       "defaultdict(int, {0: 0, 'p': 0, 'i': 0, 'a': 0})"
      ]
     },
     "execution_count": 160,
     "metadata": {},
     "output_type": "execute_result"
    }
   ],
   "source": [
    "regis0"
   ]
  },
  {
   "cell_type": "code",
   "execution_count": 161,
   "metadata": {
    "collapsed": false
   },
   "outputs": [
    {
     "data": {
      "text/plain": [
       "defaultdict(int, {'p': 1})"
      ]
     },
     "execution_count": 161,
     "metadata": {},
     "output_type": "execute_result"
    }
   ],
   "source": [
    "regis1"
   ]
  },
  {
   "cell_type": "code",
   "execution_count": null,
   "metadata": {
    "collapsed": false
   },
   "outputs": [],
   "source": [
    "count1"
   ]
  },
  {
   "cell_type": "code",
   "execution_count": null,
   "metadata": {
    "collapsed": true
   },
   "outputs": [],
   "source": []
  },
  {
   "cell_type": "markdown",
   "metadata": {},
   "source": [
    "Day 19"
   ]
  },
  {
   "cell_type": "code",
   "execution_count": 46,
   "metadata": {
    "collapsed": true
   },
   "outputs": [],
   "source": [
    "lines = Input('19').readlines()"
   ]
  },
  {
   "cell_type": "code",
   "execution_count": 47,
   "metadata": {
    "collapsed": false
   },
   "outputs": [],
   "source": [
    "figure = []\n",
    "for i in range(len(lines)):\n",
    "    line = lines[i].replace('\\n','')\n",
    "    temp = []\n",
    "    for c in line:\n",
    "        temp.append(c)\n",
    "    figure.append(temp)"
   ]
  },
  {
   "cell_type": "code",
   "execution_count": 48,
   "metadata": {
    "collapsed": false
   },
   "outputs": [],
   "source": [
    "letter = []\n",
    "base = list('ABCDEFGHIJKLMNOPQRSTUVWXYZ')\n",
    "i = 0\n",
    "j = figure[0].index('|')\n",
    "direc = ['v',1]\n",
    "r = len(figure)\n",
    "c = len(figure[0])\n",
    "count = 0\n",
    "while 0<=i<r and 0<=j<c:\n",
    "    count += 1\n",
    "    if direc[0] == 'v':\n",
    "        i += direc[1]\n",
    "    else:\n",
    "        j += direc[1]\n",
    "    if 0<=i<r and 0<=j<c:\n",
    "        cur = figure[i][j]\n",
    "        if cur == ' ':\n",
    "            break\n",
    "    else:\n",
    "        break\n",
    "    if cur in base:\n",
    "        letter.append(cur)\n",
    "    elif cur == '+':\n",
    "        if direc[0] == 'v':\n",
    "            direc[0] = 'h'\n",
    "            if 0<=j+1<c and figure[i][j+1] != ' ':\n",
    "                direc[1] = 1\n",
    "            elif 0<=j-1<c and figure[i][j-1] != ' ':\n",
    "                direc[1] = -1\n",
    "        elif direc[0] == 'h':\n",
    "            direc[0] = 'v'\n",
    "            if 0<=i+1<r and figure[i+1][j] != ' ':\n",
    "                direc[1] = 1\n",
    "            elif 0<=i-1<r and figure[i-1][j] != ' ':\n",
    "                direc[1] = -1"
   ]
  },
  {
   "cell_type": "code",
   "execution_count": 49,
   "metadata": {
    "collapsed": false
   },
   "outputs": [
    {
     "data": {
      "text/plain": [
       "'GEPYAWTMLK'"
      ]
     },
     "execution_count": 49,
     "metadata": {},
     "output_type": "execute_result"
    }
   ],
   "source": [
    "''.join(letter)"
   ]
  },
  {
   "cell_type": "code",
   "execution_count": 50,
   "metadata": {
    "collapsed": false
   },
   "outputs": [
    {
     "data": {
      "text/plain": [
       "17628"
      ]
     },
     "execution_count": 50,
     "metadata": {},
     "output_type": "execute_result"
    }
   ],
   "source": [
    "count"
   ]
  },
  {
   "cell_type": "code",
   "execution_count": null,
   "metadata": {
    "collapsed": true
   },
   "outputs": [],
   "source": []
  }
 ],
 "metadata": {
  "anaconda-cloud": {},
  "kernelspec": {
   "display_name": "Python [conda env:py34]",
   "language": "python",
   "name": "conda-env-py34-py"
  },
  "language_info": {
   "codemirror_mode": {
    "name": "ipython",
    "version": 3
   },
   "file_extension": ".py",
   "mimetype": "text/x-python",
   "name": "python",
   "nbconvert_exporter": "python",
   "pygments_lexer": "ipython3",
   "version": "3.4.5"
  }
 },
 "nbformat": 4,
 "nbformat_minor": 2
}
